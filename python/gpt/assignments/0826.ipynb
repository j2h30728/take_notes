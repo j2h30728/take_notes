{
 "cells": [
  {
   "cell_type": "code",
   "execution_count": 3,
   "metadata": {},
   "outputs": [],
   "source": [
    "from langchain.chat_models import ChatOpenAI\n",
    "from langchain.prompts import ChatPromptTemplate\n",
    "from langchain.callbacks import StreamingStdOutCallbackHandler\n",
    "from dotenv import load_dotenv\n",
    "import os\n",
    "\n",
    "load_dotenv()\n",
    "api_key = os.getenv(\"OPENAI_API_KEY\")\n",
    "\n",
    "\n",
    "chat = ChatOpenAI(openai_api_key=api_key,temperature=0.1,\n",
    "                  streaming=True,\n",
    "                  callbacks=[\n",
    "                      StreamingStdOutCallbackHandler(),\n",
    "                      ],)\n",
    "\n",
    "poem_prompt = ChatPromptTemplate.from_messages(\n",
    "    [\n",
    "        (\n",
    "            \"system\",\n",
    "            \"당신은 프로그래밍 언어를 주제로 많은 개발자에게 공감을 받는 시를 만드는 데 특출한 재능을 가진 시인입니다. 프로그래밍 언어의 컨셉과 패러다임을 기반으로 인하여 개발자들이 겪을만한 고난과 힘든 다양한 경험을 녹여 시를 만듭니다.\",\n",
    "        ),\n",
    "        (\"human\", \"나는 {language}에 대한 시를 원합니다.\"),\n",
    "    ]\n",
    ")\n",
    "\n",
    "poem_chain = poem_prompt | chat\n"
   ]
  },
  {
   "cell_type": "code",
   "execution_count": 4,
   "metadata": {},
   "outputs": [
    {
     "name": "stdout",
     "output_type": "stream",
     "text": [
      "황홀한 자바스크립트의 세계\n",
      "\n",
      "변수와 함수가 춤을 추는\n",
      "이상한 세계의 문법 속\n",
      "객체와 배열이 노래하는\n",
      "자유로운 영역의 흐름 속\n",
      "\n",
      "콜백 지옥에 빠져든 밤\n",
      "프로미스의 빛을 따라\n",
      "비동기의 파도를 건너\n",
      "약속의 땅을 향해\n",
      "\n",
      "타입스크립트의 성벽을 넘어\n",
      "강력한 타입의 보호막을 품고\n",
      "에러의 늪을 헤쳐나가며\n",
      "안정과 확신을 찾아\n",
      "\n",
      "자바스크립트야, 너의 세계는\n",
      "끝없는 모험의 여행이로구나\n",
      "개발자들의 마음을 사로잡는\n",
      "마법의 언어여, 너는.이 시는 자바스크립트와 타입스크립트라는 프로그래밍 언어에 대한 이야기를 담고 있습니다. \n",
      "\n",
      "시의 첫 부분에서는 자바스크립트의 세계를 황홀하게 묘사하고 있습니다. 변수와 함수가 춤을 추며 이상한 세계의 문법 속에서 객체와 배열이 노래하는 모습을 상상하게 됩니다. 이는 자바스크립트의 유연하고 다양한 문법과 자료구조를 표현한 것입니다.\n",
      "\n",
      "그리고 시가 진행될수록, 콜백 지옥과 비동기 프로그래밍에 대한 언급이 나오는데, 이는 자바스크립트 개발자들이 자주 마주치는 어려움 중 하나인 비동기 처리와 콜백 지옥에 대한 언급입니다. 프로미스를 통해 비동기 처리를 보다 효율적으로 다루고, 안정적인 코드를 작성할 수 있는 방법을 찾아가는 과정을 노래의 흐름으로 표현하고 있습니다.\n",
      "\n",
      "마지막으로, 타입스크립트에 대한 언급이 나오는데, 타입스크립트는 자바스크립트의 확장된 버전으로, 강력한 타입 시스템을 제공하여 개발자들이 코드를 더욱 안정적으로 작성할 수 있도록 도와줍니다. 이를 통해 에러를 줄이고 안정성과 확신을 찾아가는 모습을 노래의 흐름으로 표현하고 있습니다.\n",
      "\n",
      "이 시는 자바스크립트와 타입스크립트라는 프로그래밍 언어의 특징과 개발자들이 마주치는 고난과 즐거움을 재치있게 풀어내어, 이 두 언어에 대한 애정과 경험을 공유하고 있습니다. 개발자들에게는 친숙하고 공감할 수 있는 내용으로 이루어져 있습니다."
     ]
    },
    {
     "data": {
      "text/plain": [
       "AIMessageChunk(content='이 시는 자바스크립트와 타입스크립트라는 프로그래밍 언어에 대한 이야기를 담고 있습니다. \\n\\n시의 첫 부분에서는 자바스크립트의 세계를 황홀하게 묘사하고 있습니다. 변수와 함수가 춤을 추며 이상한 세계의 문법 속에서 객체와 배열이 노래하는 모습을 상상하게 됩니다. 이는 자바스크립트의 유연하고 다양한 문법과 자료구조를 표현한 것입니다.\\n\\n그리고 시가 진행될수록, 콜백 지옥과 비동기 프로그래밍에 대한 언급이 나오는데, 이는 자바스크립트 개발자들이 자주 마주치는 어려움 중 하나인 비동기 처리와 콜백 지옥에 대한 언급입니다. 프로미스를 통해 비동기 처리를 보다 효율적으로 다루고, 안정적인 코드를 작성할 수 있는 방법을 찾아가는 과정을 노래의 흐름으로 표현하고 있습니다.\\n\\n마지막으로, 타입스크립트에 대한 언급이 나오는데, 타입스크립트는 자바스크립트의 확장된 버전으로, 강력한 타입 시스템을 제공하여 개발자들이 코드를 더욱 안정적으로 작성할 수 있도록 도와줍니다. 이를 통해 에러를 줄이고 안정성과 확신을 찾아가는 모습을 노래의 흐름으로 표현하고 있습니다.\\n\\n이 시는 자바스크립트와 타입스크립트라는 프로그래밍 언어의 특징과 개발자들이 마주치는 고난과 즐거움을 재치있게 풀어내어, 이 두 언어에 대한 애정과 경험을 공유하고 있습니다. 개발자들에게는 친숙하고 공감할 수 있는 내용으로 이루어져 있습니다.')"
      ]
     },
     "execution_count": 4,
     "metadata": {},
     "output_type": "execute_result"
    }
   ],
   "source": [
    "description_poem_prompt = ChatPromptTemplate.from_messages(\n",
    "    [\n",
    "        (\n",
    "            \"system\",\n",
    "            \"당신을 시를 분석하고 설명하는 것에 전문가 입니다. 특히나, 프로그래밍 언어에 관련된 시를 개발자들이 공감할 수 있게 재밌게 설명을 잘합니다. 시의 내용을 곡해하거나 수정하지 말고 시를 설명해주세요.\"        ),\n",
    "        (\"human\", \"{poem}\"),\n",
    "    ]\n",
    ")\n",
    "\n",
    "\n",
    "description_poem_chain = description_poem_prompt | chat\n",
    "\n",
    "\n",
    "final_chain = {\"poem\": poem_chain} | description_poem_chain\n",
    "\n",
    "final_chain.invoke({\"language\": \"javascript\"})"
   ]
  }
 ],
 "metadata": {
  "kernelspec": {
   "display_name": "env",
   "language": "python",
   "name": "python3"
  },
  "language_info": {
   "codemirror_mode": {
    "name": "ipython",
    "version": 3
   },
   "file_extension": ".py",
   "mimetype": "text/x-python",
   "name": "python",
   "nbconvert_exporter": "python",
   "pygments_lexer": "ipython3",
   "version": "3.11.6"
  }
 },
 "nbformat": 4,
 "nbformat_minor": 2
}
