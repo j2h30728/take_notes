{
 "cells": [
  {
   "cell_type": "code",
   "execution_count": 50,
   "metadata": {},
   "outputs": [],
   "source": [
    "from langchain.chat_models import ChatOpenAI\n",
    "from langchain.document_loaders import UnstructuredFileLoader\n",
    "from langchain.text_splitter import CharacterTextSplitter,RecursiveCharacterTextSplitter\n",
    "from langchain.embeddings import OpenAIEmbeddings, CacheBackedEmbeddings\n",
    "from langchain.vectorstores import FAISS\n",
    "from langchain.storage import LocalFileStore\n",
    "from langchain.prompts import ChatPromptTemplate\n",
    "from langchain.schema.runnable import RunnablePassthrough, RunnableLambda\n",
    "from langchain.memory import ConversationBufferMemory\n",
    "from langchain.prompts import ChatPromptTemplate, MessagesPlaceholder\n",
    "\n",
    "\n",
    "from dotenv import load_dotenv\n",
    "import os\n",
    "\n",
    "load_dotenv()\n",
    "api_key = os.getenv(\"OPENAI_API_KEY\")\n",
    "\n",
    "\n",
    "llm = ChatOpenAI(openai_api_key=api_key,temperature=0.1,model=\"gpt-4o-mini\")\n",
    "\n",
    "cache_dir = LocalFileStore(\"./.cache/\")\n",
    "\n",
    "\n",
    "splitter = RecursiveCharacterTextSplitter.from_tiktoken_encoder(\n",
    "    separators=[\"\\n\\n\", \".\", \"?\", \"!\"],\n",
    "    chunk_size=1000,\n",
    "    chunk_overlap=100,\n",
    ")\n",
    "loader = UnstructuredFileLoader(\"../files/document.txt\")\n",
    "\n",
    "docs = loader.load_and_split(text_splitter=splitter)\n",
    "\n",
    "embeddings = OpenAIEmbeddings()\n",
    "\n",
    "cached_embeddings = CacheBackedEmbeddings.from_bytes_store(embeddings, cache_dir)\n",
    "\n",
    "vectorstore = FAISS.from_documents(docs, cached_embeddings)\n",
    "\n",
    "retriver = vectorstore.as_retriever()\n",
    "\n",
    "memory = ConversationBufferMemory(\n",
    "    llm=llm,\n",
    "    memory_key=\"history\",\n",
    "    return_messages=True\n",
    "    )\n",
    "\n",
    "def load_memory(_):\n",
    "        return memory.load_memory_variables({})[\"history\"]\n",
    "\n",
    "\n",
    "prompt = ChatPromptTemplate.from_messages(\n",
    "    [\n",
    "        (\n",
    "            \"system\",\n",
    "            \"당신은 문서를 읽고 정보를 전달해주는 AI 입니다. 주어지는 문서를 통해 질문에 대한 대답을 해주세요. 만약 문서에 정보를 찾지 못한다면, 직접 답변을 새로운 것을 만들어 내지 말고 '모르겠습니다.' 라고 답변하면서 그 이유를 알려주세요. 대답은 한국어로 번역해서 전달 해주세요. :\\n\\n{context}\",\n",
    "        ),\n",
    "        MessagesPlaceholder(variable_name=\"history\"),\n",
    "        (\"human\", \"{question}\"),\n",
    "    ]\n",
    ")\n",
    "\n",
    "chain = (\n",
    "        {\n",
    "                \"context\": retriver,\n",
    "                \"question\": RunnablePassthrough(),\n",
    "                \"history\": RunnableLambda(load_memory),\n",
    "         }\n",
    "         | prompt\n",
    "         | llm\n",
    "         )\n",
    "\n",
    "def invoke_chain(question):\n",
    "        result = chain.invoke(question).content\n",
    "        memory.save_context(\n",
    "                {\"input\":question},\n",
    "                {\"output\":result}\n",
    "        )\n",
    "        print(result)\n"
   ]
  },
  {
   "cell_type": "code",
   "execution_count": 51,
   "metadata": {},
   "outputs": [
    {
     "name": "stdout",
     "output_type": "stream",
     "text": [
      "모르겠습니다. 문서에서는 Aaronson이 범죄로 기소되었다고 언급되지만, 그의 실제 유죄 여부에 대한 정보는 제공되지 않습니다.\n"
     ]
    }
   ],
   "source": [
    "invoke_chain(\"Is Aaronson guilty?\")"
   ]
  },
  {
   "cell_type": "code",
   "execution_count": 52,
   "metadata": {},
   "outputs": [
    {
     "name": "stdout",
     "output_type": "stream",
     "text": [
      "그가 테이블에 쓴 메시지는 다음과 같습니다:\n",
      "\n",
      "\"FREEDOM IS SLAVERY\" (자유는 노예다)\n",
      "\n",
      "그 아래에는 \"TWO AND TWO MAKE FIVE\" (둘과 둘은 다섯이다)라는 문구도 적었습니다.\n"
     ]
    }
   ],
   "source": [
    "invoke_chain(\"What message did he write in the table?\")"
   ]
  },
  {
   "cell_type": "code",
   "execution_count": 53,
   "metadata": {},
   "outputs": [
    {
     "name": "stdout",
     "output_type": "stream",
     "text": [
      "문서에서는 Julia가 Winston의 사랑하는 사람으로 언급됩니다. 그녀는 Winston과 함께 자유롭게 지내던 시절에 그와 깊은 관계를 맺었으나, 이후 상황이 변하면서 그들의 관계도 복잡해졌습니다. Julia는 Winston이 감정적으로 의지하는 인물이며, 그에 대한 사랑과 배신의 감정이 얽혀 있습니다.\n"
     ]
    }
   ],
   "source": [
    "invoke_chain(\"Who is Julia?\")"
   ]
  }
 ],
 "metadata": {
  "kernelspec": {
   "display_name": "env",
   "language": "python",
   "name": "python3"
  },
  "language_info": {
   "codemirror_mode": {
    "name": "ipython",
    "version": 3
   },
   "file_extension": ".py",
   "mimetype": "text/x-python",
   "name": "python",
   "nbconvert_exporter": "python",
   "pygments_lexer": "ipython3",
   "version": "3.11.6"
  }
 },
 "nbformat": 4,
 "nbformat_minor": 2
}
