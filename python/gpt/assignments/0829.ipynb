{
 "cells": [
  {
   "cell_type": "code",
   "execution_count": 66,
   "metadata": {},
   "outputs": [
    {
     "name": "stdout",
     "output_type": "stream",
     "text": [
      "content='❄️🌿🌌'\n"
     ]
    }
   ],
   "source": [
    "from langchain.chat_models import ChatOpenAI\n",
    "from langchain.callbacks import StreamingStdOutCallbackHandler\n",
    "from langchain.prompts import ChatPromptTemplate, MessagesPlaceholder\n",
    "from langchain.memory import ConversationSummaryBufferMemory\n",
    "from langchain.prompts.few_shot import FewShotChatMessagePromptTemplate\n",
    "from langchain.schema.runnable import RunnablePassthrough\n",
    "\n",
    "\n",
    "from dotenv import load_dotenv\n",
    "import os\n",
    "\n",
    "load_dotenv()\n",
    "api_key = os.getenv(\"OPENAI_API_KEY\")\n",
    "\n",
    "\n",
    "llm = ChatOpenAI(openai_api_key=api_key,\n",
    "                  temperature=0.1,\n",
    "                  streaming=True,\n",
    "                  )\n",
    "memory = ConversationSummaryBufferMemory(\n",
    "    llm=llm,\n",
    "    max_token_limit=120,\n",
    "    return_messages=True\n",
    ") \n",
    "\n",
    "examples = [\n",
    "    {\n",
    "        \"question\": \"탑건\",\n",
    "        \"answer\":\"🛩️👨‍✈️🔥\",\n",
    "    },\n",
    "    {\n",
    "        \"question\": \"대부\",\n",
    "        \"answer\": \"👨‍👨‍👦🔫🍝\",\n",
    "    },\n",
    "]\n",
    "example_prompt = ChatPromptTemplate.from_messages([\n",
    "    (\"human\",  \"{question}\",),  \n",
    "    (\"ai\", \"{answer}\")\n",
    "])\n",
    "\n",
    "examples_prompt = FewShotChatMessagePromptTemplate(\n",
    "    example_prompt=example_prompt,\n",
    "    examples=examples,\n",
    ")\n",
    "\n",
    "final_prompt = ChatPromptTemplate.from_messages([\n",
    "    (\"system\", \"당신은 영화이름을 받고, 그 영화 줄거리를 기반으로 3 개의 이모티콘으로만 응답합니다. 만약, 어떤 영화인지 모를 경우에는 물음표 이모티콘을 3개로 응답합니다.\"),\n",
    "    examples_prompt,\n",
    "    MessagesPlaceholder(variable_name=\"history\"),\n",
    "    (\"human\", \"{question}\",)\n",
    "    \n",
    "])\n",
    "\n",
    "def load_memory(_):\n",
    "        return memory.load_memory_variables({})[\"history\"]\n",
    "\n",
    "\n",
    "chain = RunnablePassthrough.assign(history=load_memory) | final_prompt | llm\n",
    "\n",
    "def invoke_chain(question):\n",
    "        result = chain.invoke({\"question\": question})\n",
    "        memory.save_context(\n",
    "                {\"input\":question},\n",
    "                {\"output\":result.content}\n",
    "        )\n",
    "        print(result)\n",
    "\n",
    "invoke_chain('아바타')"
   ]
  },
  {
   "cell_type": "code",
   "execution_count": 67,
   "metadata": {},
   "outputs": [
    {
     "name": "stdout",
     "output_type": "stream",
     "text": [
      "content='👸🏼✨🦎'\n"
     ]
    }
   ],
   "source": [
    "\n",
    "invoke_chain('라푼젤')"
   ]
  },
  {
   "cell_type": "code",
   "execution_count": 68,
   "metadata": {},
   "outputs": [
    {
     "name": "stdout",
     "output_type": "stream",
     "text": [
      "content='❄️👑⛄️'\n"
     ]
    }
   ],
   "source": [
    "invoke_chain('겨울왕국')"
   ]
  },
  {
   "cell_type": "code",
   "execution_count": 69,
   "metadata": {},
   "outputs": [
    {
     "name": "stdout",
     "output_type": "stream",
     "text": [
      "content='❓❓❓'\n"
     ]
    }
   ],
   "source": [
    "invoke_chain('곡성')"
   ]
  },
  {
   "cell_type": "code",
   "execution_count": 70,
   "metadata": {},
   "outputs": [
    {
     "name": "stdout",
     "output_type": "stream",
     "text": [
      "content='🚀⏳🌌'\n"
     ]
    }
   ],
   "source": [
    "invoke_chain('인터스텔라')"
   ]
  },
  {
   "cell_type": "code",
   "execution_count": 71,
   "metadata": {},
   "outputs": [
    {
     "name": "stdout",
     "output_type": "stream",
     "text": [
      "content='❓❓❓'\n"
     ]
    }
   ],
   "source": [
    "invoke_chain('가필드 더 무비')"
   ]
  },
  {
   "cell_type": "code",
   "execution_count": 72,
   "metadata": {},
   "outputs": [
    {
     "name": "stdout",
     "output_type": "stream",
     "text": [
      "content='🐱🍕🎬'\n"
     ]
    }
   ],
   "source": [
    "invoke_chain('the garfield movie')"
   ]
  },
  {
   "cell_type": "code",
   "execution_count": 73,
   "metadata": {},
   "outputs": [
    {
     "name": "stdout",
     "output_type": "stream",
     "text": [
      "content='👸🏼❄️⛄️'\n"
     ]
    }
   ],
   "source": [
    "invoke_chain('겨울왕국2')"
   ]
  },
  {
   "cell_type": "code",
   "execution_count": 74,
   "metadata": {},
   "outputs": [
    {
     "name": "stdout",
     "output_type": "stream",
     "text": [
      "content='👾😈💣'\n"
     ]
    }
   ],
   "source": [
    "invoke_chain('슈퍼배드')"
   ]
  }
 ],
 "metadata": {
  "kernelspec": {
   "display_name": "env",
   "language": "python",
   "name": "python3"
  },
  "language_info": {
   "codemirror_mode": {
    "name": "ipython",
    "version": 3
   },
   "file_extension": ".py",
   "mimetype": "text/x-python",
   "name": "python",
   "nbconvert_exporter": "python",
   "pygments_lexer": "ipython3",
   "version": "3.11.6"
  }
 },
 "nbformat": 4,
 "nbformat_minor": 2
}
