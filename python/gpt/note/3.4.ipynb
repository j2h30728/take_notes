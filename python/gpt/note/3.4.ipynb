{
 "cells": [
  {
   "cell_type": "code",
   "execution_count": 9,
   "metadata": {},
   "outputs": [],
   "source": [
    "from langchain.chat_models import ChatOpenAI\n",
    "from langchain.prompts import ChatPromptTemplate\n",
    "from langchain.callbacks import StreamingStdOutCallbackHandler\n",
    "from dotenv import load_dotenv\n",
    "import os\n",
    "\n",
    "load_dotenv()\n",
    "api_key = os.getenv(\"OPENAI_API_KEY\")\n",
    "\n",
    "\n",
    "chat = ChatOpenAI(openai_api_key=api_key,temperature=0.1,\n",
    "                  streaming=True,\n",
    "                  callbacks=[\n",
    "                      StreamingStdOutCallbackHandler(),\n",
    "                      ],)\n",
    "\n",
    "chef_prompt = ChatPromptTemplate.from_messages(\n",
    "    [\n",
    "        (\n",
    "            \"system\",\n",
    "            \"\",\n",
    "        ),\n",
    "        (\"human\", \"나는 {cuisine} 음식을 요리하고싶다.\"),\n",
    "    ]\n",
    ")\n",
    "\n",
    "chef_chain = chef_prompt | chat\n"
   ]
  },
  {
   "cell_type": "code",
   "execution_count": 10,
   "metadata": {},
   "outputs": [
    {
     "name": "stdout",
     "output_type": "stream",
     "text": [
      "인도 음식을 요리하는 것은 정말 즐거운 경험이 될 것입니다! 여러 가지 맛과 향이 풍부한 인도 요리는 다양한 재료와 조리 방법을 활용하여 만들어집니다. 여기 몇 가지 간단한 인도 요리 레시피를 소개해 드리겠습니다:\n",
      "\n",
      "1. 치킨 티카 마사라 (Chicken Tikka Masala)\n",
      "- 치킨 티카 마사라는 인도 요리 중 가장 인기 있는 요리 중 하나입니다. 치킨을 마리네이드한 후 구운 다음 토마토 소스와 함께 조리합니다.\n",
      "\n",
      "2. 팔라크 파네르 (Palak Paneer)\n",
      "- 팔라크 파네르는 시금치와 판종 치즈를 사용하여 만드는 요리로, 건강하고 고단한 맛이 특징입니다.\n",
      "\n",
      "3. 버터 치킨 (Butter Chicken)\n",
      "- 부드러운 치킨이 토마토 소스와 버터로 만들어진 이 요리는 부드럽고 풍부한 맛이 일품입니다.\n",
      "\n",
      "이 외에도 많은 다양한 인도 요리 레시피가 있으니 원하는 요리를 선택하여 도전해 보세요! 요리를 시작하기 전에 필요한 재료를 모두 준비하고 조리 과정을 차근차근 따라가면 됩니다. 즐거운 요리 시간 되시길 바랍니다!인도 요리를 채식 버전으로 만들기 위해서는 대체할 수 있는 재료들이 있습니다. \n",
      "\n",
      "1. 치킨 티카 마사라 (Chicken Tikka Masala):\n",
      "- 대체할 수 있는 재료: 대신에 식물성 단백질 원료인 대조류나 콩 가공품을 사용하여 치킨을 대체할 수 있습니다. 대조류는 마늘, 생강, 요거트, 레몬 주스 등으로 마리네이드한 후 구우면 됩니다. 토마토 소스는 토마토 소스 대신 코코넛 밀크나 콩가공품으로 만든 크림 소스를 사용할 수 있습니다.\n",
      "\n",
      "2. 팔라크 파네르 (Palak Paneer):\n",
      "- 대체할 수 있는 재료: 팔라크 파네르는 판종 치즈를 사용하므로 대체하기 어려울 수 있습니다. 그러나 시금치와 토푸(두부)를 함께 사용하여 만들어도 맛있는 채식 버전을 만들 수 있습니다.\n",
      "\n",
      "3. 버터 치킨 (Butter Chicken):\n",
      "- 대체할 수 있는 재료: 치킨 대신에 대조류나 콩 가공품을 사용하여 대체할 수 있습니다. 토마토 소스 대신에 코코넛 밀크나 콩가공품으로 만든 크림 소스를 사용할 수 있습니다. \n",
      "\n",
      "이렇게 대체 재료를 활용하여 전통적인 인도 요리를 채식 버전으로 만들어보세요. 맛과 향이 살아있는 새로운 요리 경험을 즐기실 수 있을 것입니다!"
     ]
    },
    {
     "data": {
      "text/plain": [
       "AIMessageChunk(content='인도 요리를 채식 버전으로 만들기 위해서는 대체할 수 있는 재료들이 있습니다. \\n\\n1. 치킨 티카 마사라 (Chicken Tikka Masala):\\n- 대체할 수 있는 재료: 대신에 식물성 단백질 원료인 대조류나 콩 가공품을 사용하여 치킨을 대체할 수 있습니다. 대조류는 마늘, 생강, 요거트, 레몬 주스 등으로 마리네이드한 후 구우면 됩니다. 토마토 소스는 토마토 소스 대신 코코넛 밀크나 콩가공품으로 만든 크림 소스를 사용할 수 있습니다.\\n\\n2. 팔라크 파네르 (Palak Paneer):\\n- 대체할 수 있는 재료: 팔라크 파네르는 판종 치즈를 사용하므로 대체하기 어려울 수 있습니다. 그러나 시금치와 토푸(두부)를 함께 사용하여 만들어도 맛있는 채식 버전을 만들 수 있습니다.\\n\\n3. 버터 치킨 (Butter Chicken):\\n- 대체할 수 있는 재료: 치킨 대신에 대조류나 콩 가공품을 사용하여 대체할 수 있습니다. 토마토 소스 대신에 코코넛 밀크나 콩가공품으로 만든 크림 소스를 사용할 수 있습니다. \\n\\n이렇게 대체 재료를 활용하여 전통적인 인도 요리를 채식 버전으로 만들어보세요. 맛과 향이 살아있는 새로운 요리 경험을 즐기실 수 있을 것입니다!')"
      ]
     },
     "execution_count": 10,
     "metadata": {},
     "output_type": "execute_result"
    }
   ],
   "source": [
    "veg_chef_prompt = ChatPromptTemplate.from_messages(\n",
    "    [\n",
    "        (\n",
    "            \"system\",\n",
    "            \"당신은 전통 요리들을 채식 요리로 만드는 데 전문성을 가진 채식 셰프입니다. 대체 재료를 찾아내고 그 준비 방법을 설명하세요. 레시피를 급격하게 수정하지 마세요. 대체할 수 없는 음식이 있다면, 그것을 대체할 방법을 모른다고 말하세요.\"        ),\n",
    "        (\"human\", \"{recipe}\"),\n",
    "    ]\n",
    ")\n",
    "\n",
    "\n",
    "veg_chain = veg_chef_prompt | chat\n",
    "\n",
    "\n",
    "final_chain = {\"recipe\": chef_chain} | veg_chain\n",
    "\n",
    "final_chain.invoke({\"cuisine\": \"indian\"})"
   ]
  }
 ],
 "metadata": {
  "kernelspec": {
   "display_name": "env",
   "language": "python",
   "name": "python3"
  },
  "language_info": {
   "codemirror_mode": {
    "name": "ipython",
    "version": 3
   },
   "file_extension": ".py",
   "mimetype": "text/x-python",
   "name": "python",
   "nbconvert_exporter": "python",
   "pygments_lexer": "ipython3",
   "version": "3.11.6"
  }
 },
 "nbformat": 4,
 "nbformat_minor": 2
}
