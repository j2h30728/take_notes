{
 "cells": [
  {
   "cell_type": "code",
   "execution_count": 4,
   "metadata": {},
   "outputs": [
    {
     "data": {
      "text/plain": [
       "'human: 프랑스에 대해 무엇을 알고 있나요?\\nai: \\n        제가 아는 것은 다음과 같습니다:\\n        수도: 파리\\n        언어: 프랑스어\\n        음식: 와인과 치즈\\n        통화: 유로\\n        \\n\\nhuman : Brazil에 대해 무엇을 알고 있나요?'"
      ]
     },
     "execution_count": 4,
     "metadata": {},
     "output_type": "execute_result"
    }
   ],
   "source": [
    "from langchain.chat_models import ChatOpenAI\n",
    "from langchain.prompts import example_selector\n",
    "from langchain.prompts.few_shot import FewShotPromptTemplate\n",
    "from langchain.callbacks import StreamingStdOutCallbackHandler\n",
    "from langchain.prompts.prompt import PromptTemplate\n",
    "from langchain.prompts.example_selector.base import BaseExampleSelector\n",
    "\n",
    "from dotenv import load_dotenv\n",
    "import os\n",
    "\n",
    "load_dotenv()\n",
    "api_key = os.getenv(\"OPENAI_API_KEY\")\n",
    "\n",
    "\n",
    "chat = ChatOpenAI(openai_api_key=api_key,\n",
    "                  temperature=0.1,\n",
    "                  streaming=True,\n",
    "                  callbacks=[\n",
    "                      StreamingStdOutCallbackHandler(),\n",
    "                      ],)\n",
    "\n",
    "examples = [\n",
    "    {\n",
    "        \"question\": \"프랑스에 대해 무엇을 알고 있나요?\",\n",
    "        \"answer\": \"\"\"\n",
    "        제가 아는 것은 다음과 같습니다:\n",
    "        수도: 파리\n",
    "        언어: 프랑스어\n",
    "        음식: 와인과 치즈\n",
    "        통화: 유로\n",
    "        \"\"\",\n",
    "    },\n",
    "    {\n",
    "        \"question\": \"이탈리아에 대해 무엇을 알고 있나요?\",\n",
    "        \"answer\": \"\"\"\n",
    "        제가 아는 것은 다음과 같습니다:\n",
    "        수도: 로마\n",
    "        언어: 이탈리아어\n",
    "        음식: 피자와 파스타\n",
    "        통화: 유로\n",
    "        \"\"\",\n",
    "    },\n",
    "    {\n",
    "        \"question\": \"그리스에 대해 무엇을 알고 있나요?\",\n",
    "        \"answer\": \"\"\"\n",
    "        제가 아는 것은 다음과 같습니다:\n",
    "        수도: 아테네\n",
    "        언어: 그리스어\n",
    "        음식: 수블라키와 페타 치즈\n",
    "        통화: 유로\n",
    "        \"\"\",\n",
    "    },\n",
    "]\n",
    "\n",
    "class RandomExampleSelector(BaseExampleSelector):\n",
    "    def __init__(self, examples):\n",
    "        self.examples = examples\n",
    "\n",
    "    def add_example(self, example):\n",
    "        return super().add_example(example)\n",
    "    \n",
    "    def select_examples(self, input_variables):\n",
    "        from random import choice\n",
    "        return [choice(self.examples)]\n",
    "\n",
    "\n",
    "example_prompt = PromptTemplate.from_template(\"human: {question}\\nai: {answer}\")\n",
    "\n",
    "example_selector = RandomExampleSelector(examples=examples)\n",
    "\n",
    "prompt = FewShotPromptTemplate(\n",
    "    example_prompt=example_prompt,\n",
    "    example_selector=example_selector,\n",
    "    suffix=\"human : {country}에 대해 무엇을 알고 있나요?\",\n",
    "    input_variables=[\"country\"]\n",
    ")\n",
    "\n",
    "prompt.format(country=\"Brazil\")\n"
   ]
  }
 ],
 "metadata": {
  "kernelspec": {
   "display_name": "env",
   "language": "python",
   "name": "python3"
  },
  "language_info": {
   "codemirror_mode": {
    "name": "ipython",
    "version": 3
   },
   "file_extension": ".py",
   "mimetype": "text/x-python",
   "name": "python",
   "nbconvert_exporter": "python",
   "pygments_lexer": "ipython3",
   "version": "3.11.6"
  }
 },
 "nbformat": 4,
 "nbformat_minor": 2
}
