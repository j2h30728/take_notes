{
 "cells": [
  {
   "cell_type": "code",
   "execution_count": 4,
   "metadata": {},
   "outputs": [],
   "source": [
    "from langchain.utilities.duckduckgo_search import DuckDuckGoSearchAPIWrapper\n",
    "import yfinance\n",
    "import json\n",
    "\n",
    "\n",
    "def get_ticker(inputs):\n",
    "    ddg = DuckDuckGoSearchAPIWrapper()\n",
    "    회사명 = inputs[\"회사명\"]\n",
    "    return ddg.run(f\"{회사명}의 주식 심볼\")\n",
    "\n",
    "\n",
    "def get_income_statement(inputs):\n",
    "    심볼 = inputs[\"심볼\"]\n",
    "    주식 = yfinance.Ticker(심볼)\n",
    "    return json.dumps(주식.income_stmt.to_json())\n",
    "\n",
    "\n",
    "def get_balance_sheet(inputs):\n",
    "    심볼 = inputs[\"심볼\"]\n",
    "    주식 = yfinance.Ticker(심볼)\n",
    "    return json.dumps(주식.balance_sheet.to_json())\n",
    "\n",
    "\n",
    "def get_daily_stock_performance(inputs):\n",
    "    심볼 = inputs[\"심볼\"]\n",
    "    주식 = yfinance.Ticker(심볼)\n",
    "    return json.dumps(주식.history(period=\"3mo\").to_json())\n",
    "\n",
    "\n",
    "functions_map = {\n",
    "    \"get_ticker\": get_ticker,\n",
    "    \"get_income_statement\": get_income_statement,\n",
    "    \"get_balance_sheet\": get_balance_sheet,\n",
    "    \"get_daily_stock_performance\": get_daily_stock_performance,\n",
    "}\n",
    "\n",
    "functions = [\n",
    "    {\n",
    "        \"type\": \"function\",\n",
    "        \"function\": {\n",
    "            \"name\": \"get_ticker\",\n",
    "            \"description\": \"회사 이름을 입력받아 주식 심볼을 반환합니다.\",\n",
    "            \"parameters\": {\n",
    "                \"type\": \"object\",\n",
    "                \"properties\": {\n",
    "                    \"회사명\": {\n",
    "                        \"type\": \"string\",\n",
    "                        \"description\": \"검색할 회사의 이름\",\n",
    "                    }\n",
    "                },\n",
    "                \"required\": [\"회사명\"],\n",
    "            },\n",
    "        },\n",
    "    },\n",
    "    {\n",
    "        \"type\": \"function\",\n",
    "        \"function\": {\n",
    "            \"name\": \"get_income_statement\",\n",
    "            \"description\": \"주식 심볼을 입력받아 해당 회사의 손익계산서를 반환합니다.\",\n",
    "            \"parameters\": {\n",
    "                \"type\": \"object\",\n",
    "                \"properties\": {\n",
    "                    \"심볼\": {\n",
    "                        \"type\": \"string\",\n",
    "                        \"description\": \"회사 주식 심볼\",\n",
    "                    },\n",
    "                },\n",
    "                \"required\": [\"심볼\"],\n",
    "            },\n",
    "        },\n",
    "    },\n",
    "    {\n",
    "        \"type\": \"function\",\n",
    "        \"function\": {\n",
    "            \"name\": \"get_balance_sheet\",\n",
    "            \"description\": \"주식 심볼을 입력받아 해당 회사의 대차대조표를 반환합니다.\",\n",
    "            \"parameters\": {\n",
    "                \"type\": \"object\",\n",
    "                \"properties\": {\n",
    "                    \"심볼\": {\n",
    "                        \"type\": \"string\",\n",
    "                        \"description\": \"회사 주식 심볼\",\n",
    "                    },\n",
    "                },\n",
    "                \"required\": [\"심볼\"],\n",
    "            },\n",
    "        },\n",
    "    },\n",
    "    {\n",
    "        \"type\": \"function\",\n",
    "        \"function\": {\n",
    "            \"name\": \"get_daily_stock_performance\",\n",
    "            \"description\": \"주식 심볼을 입력받아 최근 3개월 동안의 주식 성과를 반환합니다.\",\n",
    "            \"parameters\": {\n",
    "                \"type\": \"object\",\n",
    "                \"properties\": {\n",
    "                    \"심볼\": {\n",
    "                        \"type\": \"string\",\n",
    "                        \"description\": \"회사 주식 심볼\",\n",
    "                    },\n",
    "                },\n",
    "                \"required\": [\"심볼\"],\n",
    "            },\n",
    "        },\n",
    "    },\n",
    "]"
   ]
  },
  {
   "cell_type": "code",
   "execution_count": 5,
   "metadata": {},
   "outputs": [],
   "source": [
    "# from dotenv import load_dotenv\n",
    "# import os\n",
    "\n",
    "# load_dotenv()\n",
    "# api_key = os.getenv('OPENAI_API_KEY')\n",
    "\n",
    "# from openai import OpenAI\n",
    "# client = OpenAI()\n",
    "\n",
    "# assistant = client.beta.assistants.create(\n",
    "#     name=\"Investor Assistant\",\n",
    "#     instructions=\"You help users do research on publicly traded companies and you help users decide if they should buy the stock or not.\",\n",
    "#     model=\"gpt-4-1106-preview\",\n",
    "#     tools=functions,\n",
    "# )\n",
    "# assistant"
   ]
  },
  {
   "cell_type": "code",
   "execution_count": 11,
   "metadata": {},
   "outputs": [],
   "source": [
    "from dotenv import load_dotenv\n",
    "import os\n",
    "\n",
    "load_dotenv()\n",
    "api_key = os.getenv('OPENAI_API_KEY')\n",
    "\n",
    "from openai import OpenAI\n",
    "client = OpenAI()\n",
    "\n",
    "assistant = client.beta.assistants.create(\n",
    "    name=\"주식 분석 도우미\", \n",
    "    instructions=\"당신은 사용자에게 상장된 회사들에 대해 조사하고 그 주식을 사야 할지 결정하는 데 도움을 줍니다.\", \n",
    "    model=\"gpt-4-turbo\",\n",
    "    tools=functions,\n",
    ")\n",
    "assistant_id = assistant.id"
   ]
  },
  {
   "cell_type": "code",
   "execution_count": 24,
   "metadata": {},
   "outputs": [],
   "source": [
    "\n",
    "thread = client.beta.threads.create(\n",
    "    messages=[\n",
    "        {\n",
    "            \"role\": \"user\",\n",
    "            \"content\": \"삼성전자의 주식 정보를 알고 싶어요.\",\n",
    "        }\n",
    "    ]\n",
    ")\n"
   ]
  },
  {
   "cell_type": "code",
   "execution_count": 25,
   "metadata": {},
   "outputs": [
    {
     "data": {
      "text/plain": [
       "Run(id='run_BqQ7Jzo4ap1iPZye3YXvuNSQ', assistant_id='asst_Gz8k8Swf4qKwmQ79U4Dg9vQj', cancelled_at=None, completed_at=None, created_at=1726372323, expires_at=1726372923, failed_at=None, incomplete_details=None, instructions='당신은 사용자에게 상장된 회사들에 대해 조사하고 그 주식을 사야 할지 결정하는 데 도움을 줍니다.', last_error=None, max_completion_tokens=None, max_prompt_tokens=None, metadata={}, model='gpt-4-turbo', object='thread.run', parallel_tool_calls=True, required_action=None, response_format='auto', started_at=None, status='queued', thread_id='thread_U4pf2roJkEmfLYBdqm7VFMts', tool_choice='auto', tools=[FunctionTool(function=FunctionDefinition(name='get_ticker', description='회사 이름을 입력받아 주식 심볼을 반환합니다.', parameters={'type': 'object', 'properties': {'회사명': {'type': 'string', 'description': '검색할 회사의 이름'}}, 'required': ['회사명']}, strict=False), type='function'), FunctionTool(function=FunctionDefinition(name='get_income_statement', description='주식 심볼을 입력받아 해당 회사의 손익계산서를 반환합니다.', parameters={'type': 'object', 'properties': {'심볼': {'type': 'string', 'description': '회사 주식 심볼'}}, 'required': ['심볼']}, strict=False), type='function'), FunctionTool(function=FunctionDefinition(name='get_balance_sheet', description='주식 심볼을 입력받아 해당 회사의 대차대조표를 반환합니다.', parameters={'type': 'object', 'properties': {'심볼': {'type': 'string', 'description': '회사 주식 심볼'}}, 'required': ['심볼']}, strict=False), type='function'), FunctionTool(function=FunctionDefinition(name='get_daily_stock_performance', description='주식 심볼을 입력받아 최근 3개월 동안의 주식 성과를 반환합니다.', parameters={'type': 'object', 'properties': {'심볼': {'type': 'string', 'description': '회사 주식 심볼'}}, 'required': ['심볼']}, strict=False), type='function')], truncation_strategy=TruncationStrategy(type='auto', last_messages=None), usage=None, temperature=1.0, top_p=1.0, tool_resources={})"
      ]
     },
     "execution_count": 25,
     "metadata": {},
     "output_type": "execute_result"
    }
   ],
   "source": [
    "# run 생성: assistant_id와 thread_id를 사용하여 대화 실행. 이로 인해 function_call이 실행될 수 있음.\n",
    "run = client.beta.threads.runs.create(\n",
    "    thread_id=thread.id,\n",
    "    assistant_id=assistant_id,\n",
    ")\n",
    "run"
   ]
  },
  {
   "cell_type": "code",
   "execution_count": 26,
   "metadata": {},
   "outputs": [],
   "source": [
    "# get_run 함수: 주어진 run_id와 thread_id에 대한 실행 정보를 가져오는 함수.\n",
    "def get_run(run_id, thread_id):\n",
    "    return client.beta.threads.runs.retrieve(\n",
    "        run_id=run_id,\n",
    "        thread_id=thread_id,\n",
    "    )\n",
    "\n",
    "# send_message 함수: 사용자로부터 새로운 메시지를 주어진 thread_id로 전송하는 함수.\n",
    "def send_message(thread_id, content):\n",
    "    return client.beta.threads.messages.create(\n",
    "        thread_id=thread_id, role=\"user\", content=content\n",
    "    )\n",
    "\n",
    "# get_messages 함수: 주어진 thread_id의 모든 메시지를 가져와 출력.\n",
    "def get_messages(thread_id):\n",
    "    messages = client.beta.threads.messages.list(thread_id=thread_id)\n",
    "    messages = list(messages)\n",
    "    messages.reverse()\n",
    "    for message in messages:\n",
    "        print(f\"{message.role}: {message.content[0].text.value}\")\n",
    "\n",
    "# get_tool_outputs 함수: run_id와 thread_id에 있는 실행(run)에서 호출된 도구의 출력을 가져와 출력.\n",
    "def get_tool_outputs(run_id, thread_id):\n",
    "    run = get_run(run_id, thread.id)\n",
    "    outputs = []\n",
    "    for action in run.required_action.submit_tool_outputs.tool_calls:\n",
    "        action_id = action.id\n",
    "        function = action.function\n",
    "        print(f\"호출 중인 함수: {function.name} 인자: {function.arguments}\")\n",
    "        outputs.append(\n",
    "            {\n",
    "                \"output\": functions_map[function.name](json.loads(function.arguments)),\n",
    "                \"tool_call_id\": action_id,\n",
    "            }\n",
    "        )\n",
    "    return outputs\n",
    "\n",
    "# submit_tool_outputs 함수: 가져온 도구의 출력 결과를 OpenAI API에 제출하여 실행 결과를 업데이트.\n",
    "def submit_tool_outputs(run_id, thread_id):\n",
    "    outpus = get_tool_outputs(run_id, thread_id)\n",
    "    return client.beta.threads.runs.submit_tool_outputs(\n",
    "        run_id=run_id, thread_id=thread_id, tool_outputs=outpus\n",
    "    )"
   ]
  },
  {
   "cell_type": "code",
   "execution_count": 27,
   "metadata": {},
   "outputs": [
    {
     "name": "stdout",
     "output_type": "stream",
     "text": [
      "호출 중인 함수: get_ticker 인자: {\"회사명\": \"삼성전자\"}\n",
      "호출 중인 함수: get_income_statement 인자: {\"심볼\": \"005930.KS\"}\n",
      "호출 중인 함수: get_balance_sheet 인자: {\"심볼\": \"005930.KS\"}\n",
      "호출 중인 함수: get_daily_stock_performance 인자: {\"심볼\": \"005930.KS\"}\n"
     ]
    },
    {
     "data": {
      "text/plain": [
       "Run(id='run_BqQ7Jzo4ap1iPZye3YXvuNSQ', assistant_id='asst_Gz8k8Swf4qKwmQ79U4Dg9vQj', cancelled_at=None, completed_at=None, created_at=1726372323, expires_at=1726372923, failed_at=None, incomplete_details=None, instructions='당신은 사용자에게 상장된 회사들에 대해 조사하고 그 주식을 사야 할지 결정하는 데 도움을 줍니다.', last_error=None, max_completion_tokens=None, max_prompt_tokens=None, metadata={}, model='gpt-4-turbo', object='thread.run', parallel_tool_calls=True, required_action=None, response_format='auto', started_at=1726372324, status='queued', thread_id='thread_U4pf2roJkEmfLYBdqm7VFMts', tool_choice='auto', tools=[FunctionTool(function=FunctionDefinition(name='get_ticker', description='회사 이름을 입력받아 주식 심볼을 반환합니다.', parameters={'type': 'object', 'properties': {'회사명': {'type': 'string', 'description': '검색할 회사의 이름'}}, 'required': ['회사명']}, strict=False), type='function'), FunctionTool(function=FunctionDefinition(name='get_income_statement', description='주식 심볼을 입력받아 해당 회사의 손익계산서를 반환합니다.', parameters={'type': 'object', 'properties': {'심볼': {'type': 'string', 'description': '회사 주식 심볼'}}, 'required': ['심볼']}, strict=False), type='function'), FunctionTool(function=FunctionDefinition(name='get_balance_sheet', description='주식 심볼을 입력받아 해당 회사의 대차대조표를 반환합니다.', parameters={'type': 'object', 'properties': {'심볼': {'type': 'string', 'description': '회사 주식 심볼'}}, 'required': ['심볼']}, strict=False), type='function'), FunctionTool(function=FunctionDefinition(name='get_daily_stock_performance', description='주식 심볼을 입력받아 최근 3개월 동안의 주식 성과를 반환합니다.', parameters={'type': 'object', 'properties': {'심볼': {'type': 'string', 'description': '회사 주식 심볼'}}, 'required': ['심볼']}, strict=False), type='function')], truncation_strategy=TruncationStrategy(type='auto', last_messages=None), usage=None, temperature=1.0, top_p=1.0, tool_resources={})"
      ]
     },
     "execution_count": 27,
     "metadata": {},
     "output_type": "execute_result"
    }
   ],
   "source": [
    "submit_tool_outputs(run.id, thread.id)\n"
   ]
  },
  {
   "cell_type": "code",
   "execution_count": 48,
   "metadata": {},
   "outputs": [
    {
     "data": {
      "text/plain": [
       "'completed'"
      ]
     },
     "execution_count": 48,
     "metadata": {},
     "output_type": "execute_result"
    }
   ],
   "source": [
    "get_run(run.id, thread.id).status\n"
   ]
  },
  {
   "cell_type": "code",
   "execution_count": 49,
   "metadata": {},
   "outputs": [
    {
     "name": "stdout",
     "output_type": "stream",
     "text": [
      "user: 삼성전자의 주식 정보를 알고 싶어요.\n",
      "assistant: ### 삼성전자 주식 정보 (심볼: 005930.KS)\n",
      "\n",
      "#### 1. 주식 성과 (최근 3개월)\n",
      "- 최근 주가 변동성이 높으며 트레이딩 범위가 넓음. 최고가는 88,800원, 최저가는 64,200원이었습니다.\n",
      "- 최근에는 71,400원에서 마감하며 하락세를 보였습니다.\n",
      "\n",
      "#### 2. 손익계산서 요약\n",
      "- 매출액: 302,231.36 억원\n",
      "- EBITDA: 86,303.14 억원\n",
      "- 순이익: 54,730.02 억원\n",
      "\n",
      "#### 3. 대차대조표 요약\n",
      "- 총자산: 448,424.51 억원\n",
      "- 총부채: 93,674.90 억원\n",
      "- 총자본: 354,749.60 억원\n",
      "\n",
      "#### 4. 투자 결정요인\n",
      "삼성전자는 지속적으로 강한 실적을 보여 주고 있으며, 글로벌 반도체 시장에서의 위상이 매우 높습니다. 다만, 최근 금융시장 변동성과 글로벌 경제 불확실성으로 인해 단기적 주가 변동이 클 수 있습니다.\n",
      "\n",
      "#### 투자 전략\n",
      "- 장기 투자:삼성전자의 안정적인 사업 운영과 강력한 시장 지위를 고려해 장기적으로 투자 가치가 있음. \n",
      "- 단기 투자:시장 변동성을 활용한 단기 트레이딩이 가능하지만 높은 변동성을 감수해야 함.\n",
      "\n",
      "#### 결론\n",
      "삼성전자는 장기 투자자에게는 매력적인 투자 대상이 될 수 있으나, 단기 투자자는 시장 상황을 면밀히 모니터링할 필요가 있습니다. 또한 글로벌 경제 상황과 기술 분야에서 발생할 변화에 유의하면서 투자를 고려하는 것이 좋습니다.\n"
     ]
    }
   ],
   "source": [
    "get_messages(thread.id)\n"
   ]
  }
 ],
 "metadata": {
  "kernelspec": {
   "display_name": "env",
   "language": "python",
   "name": "python3"
  },
  "language_info": {
   "codemirror_mode": {
    "name": "ipython",
    "version": 3
   },
   "file_extension": ".py",
   "mimetype": "text/x-python",
   "name": "python",
   "nbconvert_exporter": "python",
   "pygments_lexer": "ipython3",
   "version": "3.11.6"
  }
 },
 "nbformat": 4,
 "nbformat_minor": 2
}
