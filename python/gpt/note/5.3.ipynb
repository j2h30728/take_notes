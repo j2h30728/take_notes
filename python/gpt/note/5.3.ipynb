{
 "cells": [
  {
   "cell_type": "code",
   "execution_count": 20,
   "metadata": {},
   "outputs": [],
   "source": [
    "from langchain.memory import ConversationSummaryBufferMemory\n",
    "from langchain.chat_models import ChatOpenAI\n",
    "\n",
    "from dotenv import load_dotenv\n",
    "import os\n",
    "\n",
    "load_dotenv()\n",
    "api_key = os.getenv(\"OPENAI_API_KEY\")\n",
    "\n",
    "llm = ChatOpenAI(openai_api_key=api_key,temperature=0.1)\n",
    "\n",
    "memory = ConversationSummaryBufferMemory(\n",
    "    llm=llm,\n",
    "    max_token_limit=150,\n",
    "    return_messages=True\n",
    "    )\n",
    "\n",
    "\n",
    "def add_message(input, output):\n",
    "    memory.save_context({\"input\": input}, {\"output\": output})\n",
    "\n",
    "\n",
    "def get_history():\n",
    "    return memory.load_memory_variables({})\n",
    "\n",
    "\n",
    "add_message(\"안녕, 난 담입니다, 난 서울에서 살아\", \"와! 멋있는데\")\n",
    "\n"
   ]
  },
  {
   "cell_type": "code",
   "execution_count": 21,
   "metadata": {},
   "outputs": [],
   "source": [
    "add_message(\"한국은 정말 멋져.\", \"나도 가보고 싶어!\")"
   ]
  },
  {
   "cell_type": "code",
   "execution_count": 22,
   "metadata": {},
   "outputs": [
    {
     "data": {
      "text/plain": [
       "{'history': [HumanMessage(content='안녕, 난 담입니다, 난 서울에서 살아'),\n",
       "  AIMessage(content='와! 멋있는데'),\n",
       "  HumanMessage(content='한국은 정말 멋져.'),\n",
       "  AIMessage(content='나도 가보고 싶어!')]}"
      ]
     },
     "execution_count": 22,
     "metadata": {},
     "output_type": "execute_result"
    }
   ],
   "source": [
    "get_history()"
   ]
  },
  {
   "cell_type": "code",
   "execution_count": 23,
   "metadata": {},
   "outputs": [],
   "source": [
    "add_message(\"한국과 일본은 얼마나 멀어?.\", \"나도 몰라, 좀 멀겠지?\")"
   ]
  },
  {
   "cell_type": "code",
   "execution_count": 24,
   "metadata": {},
   "outputs": [
    {
     "data": {
      "text/plain": [
       "{'history': [HumanMessage(content='안녕, 난 담입니다, 난 서울에서 살아'),\n",
       "  AIMessage(content='와! 멋있는데'),\n",
       "  HumanMessage(content='한국은 정말 멋져.'),\n",
       "  AIMessage(content='나도 가보고 싶어!'),\n",
       "  HumanMessage(content='한국과 일본은 얼마나 멀어?.'),\n",
       "  AIMessage(content='나도 몰라, 좀 멀겠지?')]}"
      ]
     },
     "execution_count": 24,
     "metadata": {},
     "output_type": "execute_result"
    }
   ],
   "source": [
    "get_history()"
   ]
  },
  {
   "cell_type": "code",
   "execution_count": 25,
   "metadata": {},
   "outputs": [],
   "source": [
    "add_message(\"한국과 아르헨티나는 얼마나 멀어?.\", \"나도 몰라, 많이 멀겠지?\")"
   ]
  },
  {
   "cell_type": "code",
   "execution_count": 26,
   "metadata": {},
   "outputs": [
    {
     "data": {
      "text/plain": [
       "{'history': [SystemMessage(content='The human greets the AI in Korean and introduces themselves as Dam living in Seoul.'),\n",
       "  AIMessage(content='와! 멋있는데'),\n",
       "  HumanMessage(content='한국은 정말 멋져.'),\n",
       "  AIMessage(content='나도 가보고 싶어!'),\n",
       "  HumanMessage(content='한국과 일본은 얼마나 멀어?.'),\n",
       "  AIMessage(content='나도 몰라, 좀 멀겠지?'),\n",
       "  HumanMessage(content='한국과 아르헨티나는 얼마나 멀어?.'),\n",
       "  AIMessage(content='나도 몰라, 많이 멀겠지?')]}"
      ]
     },
     "execution_count": 26,
     "metadata": {},
     "output_type": "execute_result"
    }
   ],
   "source": [
    "get_history()"
   ]
  }
 ],
 "metadata": {
  "kernelspec": {
   "display_name": "env",
   "language": "python",
   "name": "python3"
  },
  "language_info": {
   "codemirror_mode": {
    "name": "ipython",
    "version": 3
   },
   "file_extension": ".py",
   "mimetype": "text/x-python",
   "name": "python",
   "nbconvert_exporter": "python",
   "pygments_lexer": "ipython3",
   "version": "3.11.6"
  }
 },
 "nbformat": 4,
 "nbformat_minor": 2
}
