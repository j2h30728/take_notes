{
 "cells": [
  {
   "cell_type": "code",
   "execution_count": 1,
   "metadata": {},
   "outputs": [
    {
     "name": "stdout",
     "output_type": "stream",
     "text": [
      "소주 레시피는 다양하게 준비할 수 있지만, 가장 기본적인 소주 레시피는 다음과 같습니다:\n",
      "\n",
      "재료:\n",
      "- 소주\n",
      "- 얼음\n",
      "\n",
      "1. 깨끗한 잔에 얼음을 채운다.\n",
      "2. 소주를 잔에 따르고, 즐긴다.\n",
      "\n",
      "이 외에도 소주에 과일이나 음료를 섞어 만드는 다양한 소주 칵테일 레시피도 있습니다. 원하는 재료와 비율로 소주를 섞어 새로운 맛을 즐겨보세요! \n",
      "\n",
      "뻥 레시피는 한국의 전통 음식 중 하나로, 주로 쌀가루와 물을 섞어 만든 떡갈비를 의미합니다. 떡갈비는 쌀가루와 물을 섞어 반죽을 만들고, 고기나 채소 등을 넣어 구워 만든 요리로, 고기가 들어간 경우에는 떡갈비라고 부르며, 채소만 들어간 경우에는 뻥이라고 부릅니다. 뻥은 주로 고추장, 간장, 설탕, 마늘 등으로 양념하여 맛을 낸 후 구워 먹습니다. 전통적인 한국 요리 중 하나로 맛있고 간단하게 만들 수 있는 음식입니다. \n",
      "\n",
      "Tokens Used: 470\n",
      "\tPrompt Tokens: 51\n",
      "\tCompletion Tokens: 419\n",
      "Successful Requests: 2\n",
      "Total Cost (USD): $0.0009145\n"
     ]
    }
   ],
   "source": [
    "from langchain.chat_models import ChatOpenAI\n",
    "from langchain.callbacks import get_openai_callback\n",
    "\n",
    "\n",
    "from dotenv import load_dotenv\n",
    "import os\n",
    "\n",
    "load_dotenv()\n",
    "api_key = os.getenv(\"OPENAI_API_KEY\")\n",
    "\n",
    "\n",
    "chat = ChatOpenAI(openai_api_key=api_key,\n",
    "                  temperature=0.1,)\n",
    "\n",
    "with get_openai_callback() as usage:\n",
    "    a = chat.predict(\"소주 레시피가 무엇인가요?\")\n",
    "    b = chat.predict(\"뻥 레시피가 무엇인가요?\")\n",
    "    print(a, \"\\n\")\n",
    "    print(b, \"\\n\")\n",
    "    print(usage)"
   ]
  }
 ],
 "metadata": {
  "kernelspec": {
   "display_name": "env",
   "language": "python",
   "name": "python3"
  },
  "language_info": {
   "codemirror_mode": {
    "name": "ipython",
    "version": 3
   },
   "file_extension": ".py",
   "mimetype": "text/x-python",
   "name": "python",
   "nbconvert_exporter": "python",
   "pygments_lexer": "ipython3",
   "version": "3.11.6"
  }
 },
 "nbformat": 4,
 "nbformat_minor": 2
}
