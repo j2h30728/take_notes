{
 "cells": [
  {
   "cell_type": "code",
   "execution_count": 2,
   "metadata": {},
   "outputs": [
    {
     "name": "stdout",
     "output_type": "stream",
     "text": [
      "\n",
      "\n",
      "\u001b[1m> Entering new AgentExecutor chain...\u001b[0m\n",
      "\u001b[32;1m\u001b[1;3m\n",
      "Invoking: `StockMarketSymbolSearchTool` with `{'query': '클라우드플레어 주식'}`\n",
      "\n",
      "\n",
      "\u001b[0m\u001b[36;1m\u001b[1;3m클라우드플레어 - net, 해외 주식 투자의 모든 것! 글로벌 증시 뉴스와 정보, 정확한 분석을 볼 수 있는 한경의 글로벌마켓 ssl 서비스는 dns 설정에서 클라우드플레어 cdn 기능을 사용하도록 한 경우에만 사용할 수 있는데, 놀랍게도 프리 플랜에서부터 사용이 가능하다. 복잡하게 ssl 인증서를 발급받을 필요 없이 클릭 몇 번만 해 주면 사용이 가능하다. 프리 플랜의 경우 설정 후 24시간을 기다려주면 범용 ssl 사용이 ... 클라우드플레어 내부자, 미화 250만 달러 규모의 주식 매각, 주의 신호일 수 있어 ... 주식 매각의 이력을 고려할 때 조금 망설여집니다. 내부자의 소유권과 거래에 대해 알고 싶지만, 투자 결정을 내리기 전에 해당 주식이 어떤 위험에 직면해 있는지도 고려해야 ... 클라우드플레어(net)의 3분기 조정 주당순이익(eps)은 0.16달러로 컨센서스를 6센트 상회했다. 매출액은 전년 동기 대비 32.2% 증가한 3억 3,560만 달러(한화 약 4,440억 9,948만 원)를 기록하며 컨센서스를 502만 달러(한화 약 66억 4,297만 원)웃돌았다. 홈페이지: https://www.cloudflare.com. 클라우드플레어 는 전 세계 기업에 다양한 클라우드 기반 보안 및 성능 최적화 서비스를 제공하는 사업자이다. 2009 년에 설립되었으며 2019년에 뉴욕증권거래소에 상장했다. 클라우드플레어는 웹사이트와 애플리케이션의 보안을 ...\u001b[0m\u001b[32;1m\u001b[1;3m클라우드플레어(Cloudflare)는 전 세계 기업에 다양한 클라우드 기반 보안 및 성능 최적화 서비스를 제공하는 회사입니다. 2009년에 설립되었으며 2019년에 뉴욕증권거래소에 상장되었습니다. 클라우드플레어의 주식 심볼은 \"NET\"입니다.\n",
      "\n",
      "클라우드플레어는 최근 3분기 조정 주당순이익과 매출액이 예상을 상회하는 좋은 실적을 기록했습니다. 매출액은 전년 동기 대비 32.2% 증가한 3억 3,560만 달러를 기록하며 예상을 웃돌았습니다.\n",
      "\n",
      "투자 결정을 내리기 전에 해당 회사의 내부자의 주식 매각 이력과 위험 요소를 고려하는 것이 중요합니다. 클라우드플레어의 성장 가능성과 실적을 종합적으로 분석하여 투자의 가치를 판단할 수 있습니다.\u001b[0m\n",
      "\n",
      "\u001b[1m> Finished chain.\u001b[0m\n"
     ]
    },
    {
     "data": {
      "text/plain": [
       "{'input': '클라우드플레어 주식에 대한 정보를 주고, 투자 가치가 있는지 분석해 주세요. 또한 이 회사의 주식 심볼이 무엇인지 알려주세요.',\n",
       " 'output': '클라우드플레어(Cloudflare)는 전 세계 기업에 다양한 클라우드 기반 보안 및 성능 최적화 서비스를 제공하는 회사입니다. 2009년에 설립되었으며 2019년에 뉴욕증권거래소에 상장되었습니다. 클라우드플레어의 주식 심볼은 \"NET\"입니다.\\n\\n클라우드플레어는 최근 3분기 조정 주당순이익과 매출액이 예상을 상회하는 좋은 실적을 기록했습니다. 매출액은 전년 동기 대비 32.2% 증가한 3억 3,560만 달러를 기록하며 예상을 웃돌았습니다.\\n\\n투자 결정을 내리기 전에 해당 회사의 내부자의 주식 매각 이력과 위험 요소를 고려하는 것이 중요합니다. 클라우드플레어의 성장 가능성과 실적을 종합적으로 분석하여 투자의 가치를 판단할 수 있습니다.'}"
      ]
     },
     "execution_count": 2,
     "metadata": {},
     "output_type": "execute_result"
    }
   ],
   "source": [
    "from typing import Any, Type\n",
    "from langchain.chat_models import ChatOpenAI\n",
    "from langchain.tools import BaseTool\n",
    "from pydantic import BaseModel, Field\n",
    "from langchain.agents import initialize_agent, AgentType\n",
    "from langchain.utilities import DuckDuckGoSearchAPIWrapper\n",
    "\n",
    "from dotenv import load_dotenv\n",
    "import os\n",
    "\n",
    "# .env 파일에서 API 키를 불러옵니다.\n",
    "load_dotenv()\n",
    "api_key = os.getenv('OPENAI_API_KEY')\n",
    "\n",
    "# OpenAI 언어 모델을 설정합니다.\n",
    "llm = ChatOpenAI(temperature=0.1, api_key=api_key)\n",
    "\n",
    "# 주식 심볼을 검색하기 위한 도구에 필요한 입력 스키마 정의\n",
    "class StockMarketSymbolSearchToolArgsSchema(BaseModel):\n",
    "    query: str = Field(\n",
    "        description=\"검색할 쿼리를 입력하세요. 예시 쿼리: 애플 회사의 주식 심볼\"\n",
    "    )\n",
    "\n",
    "# 주식 심볼을 검색하는 도구 클래스 정의\n",
    "class StockMarketSymbolSearchTool(BaseTool):\n",
    "    name = \"StockMarketSymbolSearchTool\"  # 도구 이름\n",
    "    description = \"\"\"\n",
    "    이 도구는 회사의 주식 심볼을 찾기 위한 도구입니다.\n",
    "    쿼리를 입력받아 사용됩니다.\n",
    "    \"\"\"  # 도구 설명\n",
    "    args_schema: Type[StockMarketSymbolSearchToolArgsSchema] = StockMarketSymbolSearchToolArgsSchema\n",
    "\n",
    "    # DuckDuckGo API를 통해 검색 실행\n",
    "    def _run(self, query):\n",
    "        ddg = DuckDuckGoSearchAPIWrapper()  # DuckDuckGo API 사용\n",
    "        return ddg.run(query)  # 검색 결과 반환\n",
    "\n",
    "# 에이전트를 초기화합니다.\n",
    "agent = initialize_agent(\n",
    "    llm=llm,  # 언어 모델 설정\n",
    "    verbose=True,  # 상세 로그 출력\n",
    "    agent=AgentType.OPENAI_FUNCTIONS,  # 에이전트 유형 설정 (OpenAI 함수형 에이전트)\n",
    "    handle_parsing_errors=True,  # 파싱 오류 처리 활성화\n",
    "    tools=[\n",
    "        StockMarketSymbolSearchTool(),  # 주식 심볼 검색 도구 추가\n",
    "    ],\n",
    ")\n",
    "\n",
    "# 사용자의 질문을 한국어로 작성\n",
    "prompt = \"클라우드플레어 주식에 대한 정보를 주고, 투자 가치가 있는지 분석해 주세요. 또한 이 회사의 주식 심볼이 무엇인지 알려주세요.\"\n",
    "\n",
    "# 에이전트를 사용하여 질문 실행\n",
    "agent.invoke(prompt)\n"
   ]
  }
 ],
 "metadata": {
  "kernelspec": {
   "display_name": "env",
   "language": "python",
   "name": "python3"
  },
  "language_info": {
   "codemirror_mode": {
    "name": "ipython",
    "version": 3
   },
   "file_extension": ".py",
   "mimetype": "text/x-python",
   "name": "python",
   "nbconvert_exporter": "python",
   "pygments_lexer": "ipython3",
   "version": "3.11.6"
  }
 },
 "nbformat": 4,
 "nbformat_minor": 2
}
