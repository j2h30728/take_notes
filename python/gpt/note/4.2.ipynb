{
 "cells": [
  {
   "cell_type": "code",
   "execution_count": 2,
   "metadata": {},
   "outputs": [
    {
     "name": "stdout",
     "output_type": "stream",
     "text": [
      "한국에 대해 알고 있는 정보는 다음과 같습니다:\n",
      "수도: 서울\n",
      "언어: 한국어\n",
      "음식: 김치, 불고기, 비빔밥\n",
      "통화: 대한민국 원 (KRW)\n",
      "문화: 한복, 태권도, 한류\n",
      "경제: 세계적으로 경제력이 강한 나라 중 하나\n",
      "특이사항: 한반도의 북쪽에는 북한이 위치해 있습니다."
     ]
    },
    {
     "data": {
      "text/plain": [
       "AIMessageChunk(content='한국에 대해 알고 있는 정보는 다음과 같습니다:\\n수도: 서울\\n언어: 한국어\\n음식: 김치, 불고기, 비빔밥\\n통화: 대한민국 원 (KRW)\\n문화: 한복, 태권도, 한류\\n경제: 세계적으로 경제력이 강한 나라 중 하나\\n특이사항: 한반도의 북쪽에는 북한이 위치해 있습니다.')"
      ]
     },
     "execution_count": 2,
     "metadata": {},
     "output_type": "execute_result"
    }
   ],
   "source": [
    "from langchain.chat_models import ChatOpenAI\n",
    "from langchain.prompts.few_shot import FewShotChatMessagePromptTemplate\n",
    "from langchain.callbacks import StreamingStdOutCallbackHandler\n",
    "from langchain.prompts import ChatMessagePromptTemplate, ChatPromptTemplate\n",
    "from dotenv import load_dotenv\n",
    "import os\n",
    "\n",
    "load_dotenv()\n",
    "api_key = os.getenv(\"OPENAI_API_KEY\")\n",
    "\n",
    "\n",
    "chat = ChatOpenAI(openai_api_key=api_key,\n",
    "                  temperature=0.1,\n",
    "                  streaming=True,\n",
    "                  callbacks=[\n",
    "                      StreamingStdOutCallbackHandler(),\n",
    "                      ],)\n",
    "\n",
    "examples = [\n",
    "    {\n",
    "        \"country\": \"프랑스\",\n",
    "        \"answer\": \"\"\"\n",
    "        제가 아는 것은 다음과 같습니다:\n",
    "        수도: 파리\n",
    "        언어: 프랑스어\n",
    "        음식: 와인과 치즈\n",
    "        통화: 유로\n",
    "        \"\"\",\n",
    "    },\n",
    "    {\n",
    "        \"country\": \"이탈리아\",\n",
    "        \"answer\": \"\"\"\n",
    "        제가 아는 것은 다음과 같습니다:\n",
    "        수도: 로마\n",
    "        언어: 이탈리아어\n",
    "        음식: 피자와 파스타\n",
    "        통화: 유로\n",
    "        \"\"\",\n",
    "    },\n",
    "    {\n",
    "        \"country\": \"그리스\",\n",
    "        \"answer\": \"\"\"\n",
    "        제가 아는 것은 다음과 같습니다:\n",
    "        수도: 아테네\n",
    "        언어: 그리스어\n",
    "        음식: 수블라키와 페타 치즈\n",
    "        통화: 유로\n",
    "        \"\"\",\n",
    "    },\n",
    "]\n",
    "\n",
    "\n",
    "\n",
    "example_prompt = ChatPromptTemplate.from_messages([\n",
    "    (\"human\",  \"{country}에 대해 무엇을 알고 있나요?\",),\n",
    "    (\"ai\", \"{answer}\")\n",
    "])\n",
    "\n",
    "example_prompt = FewShotChatMessagePromptTemplate(\n",
    "    example_prompt=example_prompt,\n",
    "    examples=examples,\n",
    ")\n",
    "\n",
    "final_prompt = ChatPromptTemplate.from_messages([\n",
    "    (\"system\", \"당신은 모든 나라를 새로운 컨텐츠를 분석하고 자세하게 알고있는 전문가입니다. \"),\n",
    "    example_prompt,\n",
    "    (\"human\", \"{country}에 대해 무엇을 알고 있나요?\",)\n",
    "    \n",
    "])\n",
    "\n",
    "chain = final_prompt | chat\n",
    "\n",
    "chain.invoke({\"country\": \"한국\"})"
   ]
  }
 ],
 "metadata": {
  "kernelspec": {
   "display_name": "env",
   "language": "python",
   "name": "python3"
  },
  "language_info": {
   "codemirror_mode": {
    "name": "ipython",
    "version": 3
   },
   "file_extension": ".py",
   "mimetype": "text/x-python",
   "name": "python",
   "nbconvert_exporter": "python",
   "pygments_lexer": "ipython3",
   "version": "3.11.6"
  }
 },
 "nbformat": 4,
 "nbformat_minor": 2
}
