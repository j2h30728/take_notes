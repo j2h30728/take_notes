{
 "cells": [
  {
   "cell_type": "code",
   "execution_count": 4,
   "metadata": {},
   "outputs": [
    {
     "data": {
      "text/plain": [
       "'{\"questions\":[{\"question\":\"뉴욕은 어느 나라에 위치해 있나요?\",\"answers\":[{\"answer\":\"미국\",\"correct\":true},{\"answer\":\"캐나다\",\"correct\":false},{\"answer\":\"영국\",\"correct\":false},{\"answer\":\"호주\",\"correct\":false}],\"description\":\"뉴욕은 미국의 동북부에 위치한 대도시입니다.\"},{\"question\":\"뉴욕의 상징적인 건축물은 무엇인가요?\",\"answers\":[{\"answer\":\"자유의 여신상\",\"correct\":true},{\"answer\":\"에펠탑\",\"correct\":false},{\"answer\":\"빅벤\",\"correct\":false},{\"answer\":\"타지마할\",\"correct\":false}],\"description\":\"자유의 여신상은 뉴욕의 상징적인 건축물 중 하나입니다.\"},{\"question\":\"뉴욕의 유명한 공원은 무엇인가요?\",\"answers\":[{\"answer\":\"센트럴 파크\",\"correct\":true},{\"answer\":\"하이드 파크\",\"correct\":false},{\"answer\":\"그리피스 파크\",\"correct\":false},{\"answer\":\"울루루 국립공원\",\"correct\":false}],\"description\":\"센트럴 파크는 뉴욕에 위치한 유명한 대형 공원입니다.\"}]}'"
      ]
     },
     "execution_count": 4,
     "metadata": {},
     "output_type": "execute_result"
    }
   ],
   "source": [
    "from langchain.chat_models import ChatOpenAI\n",
    "from langchain.prompts import PromptTemplate\n",
    "\n",
    "from dotenv import load_dotenv\n",
    "import os\n",
    "\n",
    "load_dotenv()\n",
    "api_key = os.getenv(\"OPENAI_API_KEY\")\n",
    "\n",
    "function = {\n",
    "    \"name\": \"create_quiz\",\n",
    "    \"description\": \"function that takes a list of questions and answers and returns a quiz written korean\",\n",
    "    \"parameters\": {\n",
    "        \"type\": \"object\",\n",
    "        \"properties\": {\n",
    "            \"questions\": {\n",
    "                \"type\": \"array\",\n",
    "                \"items\": {\n",
    "                    \"type\": \"object\",\n",
    "                    \"properties\": {\n",
    "                        \"question\": {\n",
    "                            \"type\": \"string\",\n",
    "                        },\n",
    "                        \"answers\": {\n",
    "                            \"type\": \"array\",\n",
    "                            \"items\": {\n",
    "                                \"type\": \"object\",\n",
    "                                \"properties\": {\n",
    "                                    \"answer\": {\n",
    "                                        \"type\": \"string\",\n",
    "                                    },\n",
    "                                    \"correct\": {\n",
    "                                        \"type\": \"boolean\",\n",
    "                                    },\n",
    "                                },\n",
    "                                \"required\": [\"answer\", \"correct\"],\n",
    "                            },\n",
    "                        },\n",
    "                          \"description\": {\n",
    "                            \"type\": \"string\",\n",
    "                        },\n",
    "                    },\n",
    "                    \"required\": [\"question\", \"answers\", \"description\"],\n",
    "                },\n",
    "            }\n",
    "        },\n",
    "        \"required\": [\"questions\"],\n",
    "    },\n",
    "}\n",
    "\n",
    "\n",
    "llm = ChatOpenAI(\n",
    "    temperature=0.1,\n",
    "    api_key=api_key,\n",
    "    model=\"gpt-4o\",\n",
    " ).bind(\n",
    "    function_call={\n",
    "        \"name\": \"create_quiz\",\n",
    "    },\n",
    "    functions=[\n",
    "        function,\n",
    "    ],\n",
    ")\n",
    "\n",
    "prompt = PromptTemplate.from_template(\"{city}이라는 도시에 대해서 설명해줘\")\n",
    "\n",
    "chain = prompt | llm\n",
    "\n",
    "response = chain.invoke({\"city\": \"뉴욕\"})\n",
    "\n",
    "\n",
    "response = response.additional_kwargs[\"function_call\"][\"arguments\"]\n",
    "\n",
    "response"
   ]
  },
  {
   "cell_type": "code",
   "execution_count": 5,
   "metadata": {},
   "outputs": [
    {
     "name": "stdout",
     "output_type": "stream",
     "text": [
      "{'question': '뉴욕은 어느 나라에 위치해 있나요?', 'answers': [{'answer': '미국', 'correct': True}, {'answer': '캐나다', 'correct': False}, {'answer': '영국', 'correct': False}, {'answer': '호주', 'correct': False}], 'description': '뉴욕은 미국의 동북부에 위치한 대도시입니다.'}\n",
      "{'question': '뉴욕의 상징적인 건축물은 무엇인가요?', 'answers': [{'answer': '자유의 여신상', 'correct': True}, {'answer': '에펠탑', 'correct': False}, {'answer': '빅벤', 'correct': False}, {'answer': '타지마할', 'correct': False}], 'description': '자유의 여신상은 뉴욕의 상징적인 건축물 중 하나입니다.'}\n",
      "{'question': '뉴욕의 유명한 공원은 무엇인가요?', 'answers': [{'answer': '센트럴 파크', 'correct': True}, {'answer': '하이드 파크', 'correct': False}, {'answer': '그리피스 파크', 'correct': False}, {'answer': '울루루 국립공원', 'correct': False}], 'description': '센트럴 파크는 뉴욕에 위치한 유명한 대형 공원입니다.'}\n"
     ]
    }
   ],
   "source": [
    "import json\n",
    "\n",
    "for question in json.loads(response)[\"questions\"]:\n",
    "    print(question)"
   ]
  }
 ],
 "metadata": {
  "kernelspec": {
   "display_name": "env",
   "language": "python",
   "name": "python3"
  },
  "language_info": {
   "codemirror_mode": {
    "name": "ipython",
    "version": 3
   },
   "file_extension": ".py",
   "mimetype": "text/x-python",
   "name": "python",
   "nbconvert_exporter": "python",
   "pygments_lexer": "ipython3",
   "version": "3.11.6"
  }
 },
 "nbformat": 4,
 "nbformat_minor": 2
}
