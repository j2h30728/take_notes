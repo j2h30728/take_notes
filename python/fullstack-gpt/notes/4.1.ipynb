{
 "cells": [
  {
   "cell_type": "code",
   "execution_count": 1,
   "metadata": {},
   "outputs": [
    {
     "name": "stdout",
     "output_type": "stream",
     "text": [
      "AI:\n",
      "        제가 아는 것은 다음과 같습니다:\n",
      "        수도: 서울\n",
      "        언어: 한국어\n",
      "        음식: 김치, 불고기, 비빔밥\n",
      "        통화: 대한민국 원"
     ]
    },
    {
     "data": {
      "text/plain": [
       "AIMessageChunk(content='AI:\\n        제가 아는 것은 다음과 같습니다:\\n        수도: 서울\\n        언어: 한국어\\n        음식: 김치, 불고기, 비빔밥\\n        통화: 대한민국 원')"
      ]
     },
     "execution_count": 1,
     "metadata": {},
     "output_type": "execute_result"
    }
   ],
   "source": [
    "from langchain.chat_models import ChatOpenAI\n",
    "from langchain.prompts.few_shot import FewShotPromptTemplate\n",
    "from langchain.callbacks import StreamingStdOutCallbackHandler\n",
    "from langchain.prompts.prompt import PromptTemplate\n",
    "from dotenv import load_dotenv\n",
    "import os\n",
    "\n",
    "load_dotenv()\n",
    "api_key = os.getenv(\"OPENAI_API_KEY\")\n",
    "\n",
    "\n",
    "chat = ChatOpenAI(openai_api_key=api_key,\n",
    "                  temperature=0.1,\n",
    "                  streaming=True,\n",
    "                  callbacks=[\n",
    "                      StreamingStdOutCallbackHandler(),\n",
    "                      ],)\n",
    "\n",
    "examples = [\n",
    "    {\n",
    "        \"question\": \"프랑스에 대해 무엇을 알고 있나요?\",\n",
    "        \"answer\": \"\"\"\n",
    "        제가 아는 것은 다음과 같습니다:\n",
    "        수도: 파리\n",
    "        언어: 프랑스어\n",
    "        음식: 와인과 치즈\n",
    "        통화: 유로\n",
    "        \"\"\",\n",
    "    },\n",
    "    {\n",
    "        \"question\": \"이탈리아에 대해 무엇을 알고 있나요?\",\n",
    "        \"answer\": \"\"\"\n",
    "        제가 아는 것은 다음과 같습니다:\n",
    "        수도: 로마\n",
    "        언어: 이탈리아어\n",
    "        음식: 피자와 파스타\n",
    "        통화: 유로\n",
    "        \"\"\",\n",
    "    },\n",
    "    {\n",
    "        \"question\": \"그리스에 대해 무엇을 알고 있나요?\",\n",
    "        \"answer\": \"\"\"\n",
    "        제가 아는 것은 다음과 같습니다:\n",
    "        수도: 아테네\n",
    "        언어: 그리스어\n",
    "        음식: 수블라키와 페타 치즈\n",
    "        통화: 유로\n",
    "        \"\"\",\n",
    "    },\n",
    "]\n",
    "\n",
    "\n",
    "\n",
    "example_prompt = PromptTemplate.from_template(\"Human: {question}\\nAI:{answer}\")\n",
    "\n",
    "prompt = FewShotPromptTemplate(\n",
    "    example_prompt=example_prompt,\n",
    "    examples=examples,\n",
    "    suffix=\"Human:  {country}에 대해 무엇을 알고 있나요?\",\n",
    "    input_variables=[\"country\"],\n",
    ")\n",
    "\n",
    "chain = prompt | chat\n",
    "\n",
    "chain.invoke({\"country\": \"한국\"})"
   ]
  }
 ],
 "metadata": {
  "kernelspec": {
   "display_name": "env",
   "language": "python",
   "name": "python3"
  },
  "language_info": {
   "codemirror_mode": {
    "name": "ipython",
    "version": 3
   },
   "file_extension": ".py",
   "mimetype": "text/x-python",
   "name": "python",
   "nbconvert_exporter": "python",
   "pygments_lexer": "ipython3",
   "version": "3.11.6"
  }
 },
 "nbformat": 4,
 "nbformat_minor": 2
}
