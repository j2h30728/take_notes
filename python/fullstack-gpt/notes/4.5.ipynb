{
 "cells": [
  {
   "cell_type": "code",
   "execution_count": 3,
   "metadata": {},
   "outputs": [
    {
     "data": {
      "text/plain": [
       "'이탈리안 파스타를 만드는 방법은 다양하지만, 전통적인 방법은 다음과 같습니다.\\n\\n1. 물을 끓는 냄비에 소금을 넣고 파스타를 넣어서 삶습니다. 대부분의 파스타는 8-12분 정도 삶아야 합니다. 삶는 동안 종종 젓어주어 파스타가 서로 붙지 않도록 합니다.\\n\\n2. 다른 팬에 올리브 오일을 데워 다진 마늘을 볶습니다. 마늘이 은은히 갈색이 될 때까지 볶아줍니다.\\n\\n3. 볶은 마늘에 다진 토마토를 넣고 볶습니다. 토마토가 윤기를 내고 익을 때까지 볶아줍니다.\\n\\n4. 토마토에 소금, 후추, 들기름을 넣고 간을 맞춰줍니다.\\n\\n5. 삶은 파스타를 물기를 제거하고 토마토 소스에 넣어 섞어줍니다.\\n\\n6. 그릴 된 야채나 고기, 그리고 파마산 치즈를 곁들여서 내놓으면 완성입니다.\\n\\n이처럼 이탈리안 파스타는 간단하면서도 맛있는 요리입니다. 원하는 재료나 소스를 추가하여 자신만의 파스타를 만들어보세요.'"
      ]
     },
     "execution_count": 3,
     "metadata": {},
     "output_type": "execute_result"
    }
   ],
   "source": [
    "from langchain.chat_models import ChatOpenAI\n",
    "from langchain.callbacks import StreamingStdOutCallbackHandler\n",
    "from langchain.globals import set_llm_cache, set_debug\n",
    "from langchain.cache import InMemoryCache, SQLiteCache\n",
    "\n",
    "\n",
    "from dotenv import load_dotenv\n",
    "import os\n",
    "\n",
    "load_dotenv()\n",
    "api_key = os.getenv(\"OPENAI_API_KEY\")\n",
    "\n",
    "set_llm_cache(SQLiteCache(\"cache.db\"))\n",
    "\n",
    "chat = ChatOpenAI(openai_api_key=api_key,\n",
    "                  temperature=0.1,\n",
    "                #   streaming=True,\n",
    "                #   callbacks=[\n",
    "                #       StreamingStdOutCallbackHandler(),\n",
    "                #       ],\n",
    "                      )\n",
    "\n",
    "\n",
    "chat.predict(\"이탈리안 파스타는 어떻게 만들어?\")\n",
    "# 생성시간 6.9s"
   ]
  },
  {
   "cell_type": "code",
   "execution_count": 4,
   "metadata": {},
   "outputs": [
    {
     "data": {
      "text/plain": [
       "'이탈리안 파스타를 만드는 방법은 다양하지만, 전통적인 방법은 다음과 같습니다.\\n\\n1. 물을 끓는 냄비에 소금을 넣고 파스타를 넣어서 삶습니다. 대부분의 파스타는 8-12분 정도 삶아야 합니다. 삶는 동안 종종 젓어주어 파스타가 서로 붙지 않도록 합니다.\\n\\n2. 다른 팬에 올리브 오일을 데워 다진 마늘을 볶습니다. 마늘이 은은히 갈색이 될 때까지 볶아줍니다.\\n\\n3. 볶은 마늘에 다진 토마토를 넣고 볶습니다. 토마토가 윤기를 내고 익을 때까지 볶아줍니다.\\n\\n4. 토마토에 소금, 후추, 들기름을 넣고 간을 맞춰줍니다.\\n\\n5. 삶은 파스타를 물기를 제거하고 토마토 소스에 넣어 섞어줍니다.\\n\\n6. 그릴 된 야채나 고기, 그리고 파마산 치즈를 곁들여서 내놓으면 완성입니다.\\n\\n이처럼 이탈리안 파스타는 간단하면서도 맛있는 요리입니다. 원하는 재료나 소스를 추가하여 자신만의 파스타를 만들어보세요.'"
      ]
     },
     "execution_count": 4,
     "metadata": {},
     "output_type": "execute_result"
    }
   ],
   "source": [
    "chat.predict(\"이탈리안 파스타는 어떻게 만들어?\")\n",
    "# 생성시간 0.0s"
   ]
  }
 ],
 "metadata": {
  "kernelspec": {
   "display_name": "env",
   "language": "python",
   "name": "python3"
  },
  "language_info": {
   "codemirror_mode": {
    "name": "ipython",
    "version": 3
   },
   "file_extension": ".py",
   "mimetype": "text/x-python",
   "name": "python",
   "nbconvert_exporter": "python",
   "pygments_lexer": "ipython3",
   "version": "3.11.6"
  }
 },
 "nbformat": 4,
 "nbformat_minor": 2
}
